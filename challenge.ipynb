{
 "cells": [
  {
   "cell_type": "code",
   "execution_count": 1,
   "metadata": {},
   "outputs": [],
   "source": [
    "import pandas as pd\n",
    "import numpy as np\n",
    "import seaborn as sns\n",
    "import matplotlib.pyplot as plt\n",
    "%matplotlib inline\n",
    "\n",
    "# Preprocessing and utils:\n",
    "from sklearn.preprocessing import OneHotEncoder, StandardScaler\n",
    "from sklearn.model_selection import train_test_split, GridSearchCV\n",
    "from sklearn.pipeline import make_pipeline\n",
    "from sklearn.base import TransformerMixin\n",
    "\n",
    "# Models:\n",
    "from sklearn.linear_model import LinearRegression, Lasso, Ridge\n",
    " \n",
    "# Evaluation metrics:\n",
    "from sklearn.metrics import mean_squared_error\n",
    "\n",
    "pd.set_option('display.max_rows', None)\n",
    "pd.set_option('display.max_columns', None)"
   ]
  },
  {
   "cell_type": "markdown",
   "metadata": {},
   "source": [
    "## Question 1. \n",
    "### List as many use cases for the dataset as possible."
   ]
  },
  {
   "cell_type": "markdown",
   "metadata": {},
   "source": [
    "* Predicting a car's assigned insurance risk rating \n",
    "* Predicting the relative average loss payment per insured vehicle year\n",
    "* Predicting the price of a car\n",
    "* Clustering the cars into groups with similar attributes "
   ]
  },
  {
   "cell_type": "markdown",
   "metadata": {},
   "source": [
    "## Question 2. \n",
    "### Pick one of the use cases you listed in question 1 and describe how building a statistical model based on the dataset could best be used to improve Auto1’s business."
   ]
  },
  {
   "cell_type": "markdown",
   "metadata": {},
   "source": [
    "Predicting a car's price and clustering the cars into segments are both useful use cases for Auto1's business.\n",
    "\n",
    "As Auto1 is buying used cars, checks and repairs them before reselling them predicting a car's price can be used to determine the sale price of the car.\n",
    "\n",
    "Clustering the cars into groups on the other hand can be useful to present similar types of cars to customers  according to their individual preferences.\n",
    "\n",
    "In the following I am going to implement a simple model to predict the price of a car."
   ]
  },
  {
   "cell_type": "markdown",
   "metadata": {},
   "source": [
    "## Question 3. \n",
    "### Implement the model you described in question 2. The code has to retrieve the data, train and test a statistical model, and report relevant performance criteria. \n"
   ]
  },
  {
   "cell_type": "code",
   "execution_count": 2,
   "metadata": {},
   "outputs": [
    {
     "name": "stdout",
     "output_type": "stream",
     "text": [
      "(205, 26)\n"
     ]
    },
    {
     "data": {
      "text/html": [
       "<div>\n",
       "<style scoped>\n",
       "    .dataframe tbody tr th:only-of-type {\n",
       "        vertical-align: middle;\n",
       "    }\n",
       "\n",
       "    .dataframe tbody tr th {\n",
       "        vertical-align: top;\n",
       "    }\n",
       "\n",
       "    .dataframe thead th {\n",
       "        text-align: right;\n",
       "    }\n",
       "</style>\n",
       "<table border=\"1\" class=\"dataframe\">\n",
       "  <thead>\n",
       "    <tr style=\"text-align: right;\">\n",
       "      <th></th>\n",
       "      <th>symboling</th>\n",
       "      <th>normalized-losses</th>\n",
       "      <th>make</th>\n",
       "      <th>fuel-type</th>\n",
       "      <th>aspiration</th>\n",
       "      <th>num-of-doors</th>\n",
       "      <th>body-style</th>\n",
       "      <th>drive-wheels</th>\n",
       "      <th>engine-location</th>\n",
       "      <th>wheel-base</th>\n",
       "      <th>length</th>\n",
       "      <th>width</th>\n",
       "      <th>height</th>\n",
       "      <th>curb-weight</th>\n",
       "      <th>engine-type</th>\n",
       "      <th>num-of-cylinders</th>\n",
       "      <th>engine-size</th>\n",
       "      <th>fuel-system</th>\n",
       "      <th>bore</th>\n",
       "      <th>stroke</th>\n",
       "      <th>compression-ratio</th>\n",
       "      <th>horsepower</th>\n",
       "      <th>peak-rpm</th>\n",
       "      <th>city-mpg</th>\n",
       "      <th>highway-mpg</th>\n",
       "      <th>price</th>\n",
       "    </tr>\n",
       "  </thead>\n",
       "  <tbody>\n",
       "    <tr>\n",
       "      <th>0</th>\n",
       "      <td>3</td>\n",
       "      <td>NaN</td>\n",
       "      <td>alfa-romero</td>\n",
       "      <td>gas</td>\n",
       "      <td>std</td>\n",
       "      <td>two</td>\n",
       "      <td>convertible</td>\n",
       "      <td>rwd</td>\n",
       "      <td>front</td>\n",
       "      <td>88.6</td>\n",
       "      <td>168.8</td>\n",
       "      <td>64.1</td>\n",
       "      <td>48.8</td>\n",
       "      <td>2548</td>\n",
       "      <td>dohc</td>\n",
       "      <td>four</td>\n",
       "      <td>130</td>\n",
       "      <td>mpfi</td>\n",
       "      <td>3.47</td>\n",
       "      <td>2.68</td>\n",
       "      <td>9.0</td>\n",
       "      <td>111.0</td>\n",
       "      <td>5000.0</td>\n",
       "      <td>21</td>\n",
       "      <td>27</td>\n",
       "      <td>13495.0</td>\n",
       "    </tr>\n",
       "    <tr>\n",
       "      <th>1</th>\n",
       "      <td>3</td>\n",
       "      <td>NaN</td>\n",
       "      <td>alfa-romero</td>\n",
       "      <td>gas</td>\n",
       "      <td>std</td>\n",
       "      <td>two</td>\n",
       "      <td>convertible</td>\n",
       "      <td>rwd</td>\n",
       "      <td>front</td>\n",
       "      <td>88.6</td>\n",
       "      <td>168.8</td>\n",
       "      <td>64.1</td>\n",
       "      <td>48.8</td>\n",
       "      <td>2548</td>\n",
       "      <td>dohc</td>\n",
       "      <td>four</td>\n",
       "      <td>130</td>\n",
       "      <td>mpfi</td>\n",
       "      <td>3.47</td>\n",
       "      <td>2.68</td>\n",
       "      <td>9.0</td>\n",
       "      <td>111.0</td>\n",
       "      <td>5000.0</td>\n",
       "      <td>21</td>\n",
       "      <td>27</td>\n",
       "      <td>16500.0</td>\n",
       "    </tr>\n",
       "    <tr>\n",
       "      <th>2</th>\n",
       "      <td>1</td>\n",
       "      <td>NaN</td>\n",
       "      <td>alfa-romero</td>\n",
       "      <td>gas</td>\n",
       "      <td>std</td>\n",
       "      <td>two</td>\n",
       "      <td>hatchback</td>\n",
       "      <td>rwd</td>\n",
       "      <td>front</td>\n",
       "      <td>94.5</td>\n",
       "      <td>171.2</td>\n",
       "      <td>65.5</td>\n",
       "      <td>52.4</td>\n",
       "      <td>2823</td>\n",
       "      <td>ohcv</td>\n",
       "      <td>six</td>\n",
       "      <td>152</td>\n",
       "      <td>mpfi</td>\n",
       "      <td>2.68</td>\n",
       "      <td>3.47</td>\n",
       "      <td>9.0</td>\n",
       "      <td>154.0</td>\n",
       "      <td>5000.0</td>\n",
       "      <td>19</td>\n",
       "      <td>26</td>\n",
       "      <td>16500.0</td>\n",
       "    </tr>\n",
       "    <tr>\n",
       "      <th>3</th>\n",
       "      <td>2</td>\n",
       "      <td>164.0</td>\n",
       "      <td>audi</td>\n",
       "      <td>gas</td>\n",
       "      <td>std</td>\n",
       "      <td>four</td>\n",
       "      <td>sedan</td>\n",
       "      <td>fwd</td>\n",
       "      <td>front</td>\n",
       "      <td>99.8</td>\n",
       "      <td>176.6</td>\n",
       "      <td>66.2</td>\n",
       "      <td>54.3</td>\n",
       "      <td>2337</td>\n",
       "      <td>ohc</td>\n",
       "      <td>four</td>\n",
       "      <td>109</td>\n",
       "      <td>mpfi</td>\n",
       "      <td>3.19</td>\n",
       "      <td>3.40</td>\n",
       "      <td>10.0</td>\n",
       "      <td>102.0</td>\n",
       "      <td>5500.0</td>\n",
       "      <td>24</td>\n",
       "      <td>30</td>\n",
       "      <td>13950.0</td>\n",
       "    </tr>\n",
       "    <tr>\n",
       "      <th>4</th>\n",
       "      <td>2</td>\n",
       "      <td>164.0</td>\n",
       "      <td>audi</td>\n",
       "      <td>gas</td>\n",
       "      <td>std</td>\n",
       "      <td>four</td>\n",
       "      <td>sedan</td>\n",
       "      <td>4wd</td>\n",
       "      <td>front</td>\n",
       "      <td>99.4</td>\n",
       "      <td>176.6</td>\n",
       "      <td>66.4</td>\n",
       "      <td>54.3</td>\n",
       "      <td>2824</td>\n",
       "      <td>ohc</td>\n",
       "      <td>five</td>\n",
       "      <td>136</td>\n",
       "      <td>mpfi</td>\n",
       "      <td>3.19</td>\n",
       "      <td>3.40</td>\n",
       "      <td>8.0</td>\n",
       "      <td>115.0</td>\n",
       "      <td>5500.0</td>\n",
       "      <td>18</td>\n",
       "      <td>22</td>\n",
       "      <td>17450.0</td>\n",
       "    </tr>\n",
       "  </tbody>\n",
       "</table>\n",
       "</div>"
      ],
      "text/plain": [
       "   symboling  normalized-losses         make fuel-type aspiration  \\\n",
       "0          3                NaN  alfa-romero       gas        std   \n",
       "1          3                NaN  alfa-romero       gas        std   \n",
       "2          1                NaN  alfa-romero       gas        std   \n",
       "3          2              164.0         audi       gas        std   \n",
       "4          2              164.0         audi       gas        std   \n",
       "\n",
       "  num-of-doors   body-style drive-wheels engine-location  wheel-base  length  \\\n",
       "0          two  convertible          rwd           front        88.6   168.8   \n",
       "1          two  convertible          rwd           front        88.6   168.8   \n",
       "2          two    hatchback          rwd           front        94.5   171.2   \n",
       "3         four        sedan          fwd           front        99.8   176.6   \n",
       "4         four        sedan          4wd           front        99.4   176.6   \n",
       "\n",
       "   width  height  curb-weight engine-type num-of-cylinders  engine-size  \\\n",
       "0   64.1    48.8         2548        dohc             four          130   \n",
       "1   64.1    48.8         2548        dohc             four          130   \n",
       "2   65.5    52.4         2823        ohcv              six          152   \n",
       "3   66.2    54.3         2337         ohc             four          109   \n",
       "4   66.4    54.3         2824         ohc             five          136   \n",
       "\n",
       "  fuel-system  bore  stroke  compression-ratio  horsepower  peak-rpm  \\\n",
       "0        mpfi  3.47    2.68                9.0       111.0    5000.0   \n",
       "1        mpfi  3.47    2.68                9.0       111.0    5000.0   \n",
       "2        mpfi  2.68    3.47                9.0       154.0    5000.0   \n",
       "3        mpfi  3.19    3.40               10.0       102.0    5500.0   \n",
       "4        mpfi  3.19    3.40                8.0       115.0    5500.0   \n",
       "\n",
       "   city-mpg  highway-mpg    price  \n",
       "0        21           27  13495.0  \n",
       "1        21           27  16500.0  \n",
       "2        19           26  16500.0  \n",
       "3        24           30  13950.0  \n",
       "4        18           22  17450.0  "
      ]
     },
     "execution_count": 2,
     "metadata": {},
     "output_type": "execute_result"
    }
   ],
   "source": [
    "d = pd.read_csv('Auto1-DS-TestData.csv', na_values='?')\n",
    "print(d.shape)\n",
    "d.head()"
   ]
  },
  {
   "cell_type": "code",
   "execution_count": 3,
   "metadata": {},
   "outputs": [
    {
     "data": {
      "text/plain": [
       "(201, 24)"
      ]
     },
     "execution_count": 3,
     "metadata": {},
     "output_type": "execute_result"
    }
   ],
   "source": [
    "# Removing entries where price is missing.\n",
    "d = d[~d['price'].isnull()]\n",
    "\n",
    "# Removing variables that are related to insurance risk and loss payments\n",
    "d = d.drop(['symboling', 'normalized-losses'], axis=1)\n",
    "\n",
    "d.shape"
   ]
  },
  {
   "cell_type": "markdown",
   "metadata": {},
   "source": [
    "#### Target variable price:"
   ]
  },
  {
   "cell_type": "code",
   "execution_count": 4,
   "metadata": {},
   "outputs": [
    {
     "name": "stdout",
     "output_type": "stream",
     "text": [
      "Skewness of price:1.8096753391\n"
     ]
    },
    {
     "data": {
      "image/png": "[encoded data removed]",
      "text/plain": [
       "<matplotlib.figure.Figure at 0x1a0df5f7d0>"
      ]
     },
     "metadata": {},
     "output_type": "display_data"
    }
   ],
   "source": [
    "# Checking whether target variable is skewed.\n",
    "\n",
    "sns.distplot(d['price'])\n",
    "print('Skewness of price:' + str(d.price.skew()))"
   ]
  },
  {
   "cell_type": "code",
   "execution_count": 5,
   "metadata": {},
   "outputs": [
    {
     "name": "stdout",
     "output_type": "stream",
     "text": [
      "Skewness of price after log transform: 0.678652072804\n"
     ]
    },
    {
     "data": {
      "image/png": "[encoded data removed]",
      "text/plain": [
       "<matplotlib.figure.Figure at 0x1a0dfa8590>"
      ]
     },
     "metadata": {},
     "output_type": "display_data"
    }
   ],
   "source": [
    "# Log transform of price variable to reduce skewness\n",
    "\n",
    "d['price'] = np.log(d['price'])\n",
    "\n",
    "sns.distplot(d['price'])\n",
    "print('Skewness of price after log transform: ' + str(d.price.skew()))\n",
    "# The value closer to 0 means it is less skewed."
   ]
  },
  {
   "cell_type": "markdown",
   "metadata": {},
   "source": [
    "#### Categorical and numeric variables:"
   ]
  },
  {
   "cell_type": "code",
   "execution_count": 6,
   "metadata": {},
   "outputs": [],
   "source": [
    "# Converts 'num-of-cylinders' to numeric.\n",
    "\n",
    "cylinders = pd.DataFrame({'num-of-cylinders': d['num-of-cylinders'].unique(), \n",
    "                          'number-of-cylinders': [4, 6, 5, 3, 12, 2, 8]})\n",
    "\n",
    "d = pd.merge(d, cylinders, on = 'num-of-cylinders')\n",
    "d.drop('num-of-cylinders', axis = 1, inplace=True)"
   ]
  },
  {
   "cell_type": "code",
   "execution_count": 7,
   "metadata": {},
   "outputs": [],
   "source": [
    "# Defines categorical and numeric variables.\n",
    "\n",
    "num = d.select_dtypes(include=['int64', 'float64']).columns.ravel()\n",
    "cat = d.select_dtypes(include=['object']).columns.ravel()\n",
    "cols = np.append(cat, num)"
   ]
  },
  {
   "cell_type": "code",
   "execution_count": 8,
   "metadata": {},
   "outputs": [
    {
     "data": {
      "text/html": [
       "<div>\n",
       "<style scoped>\n",
       "    .dataframe tbody tr th:only-of-type {\n",
       "        vertical-align: middle;\n",
       "    }\n",
       "\n",
       "    .dataframe tbody tr th {\n",
       "        vertical-align: top;\n",
       "    }\n",
       "\n",
       "    .dataframe thead th {\n",
       "        text-align: right;\n",
       "    }\n",
       "</style>\n",
       "<table border=\"1\" class=\"dataframe\">\n",
       "  <thead>\n",
       "    <tr style=\"text-align: right;\">\n",
       "      <th></th>\n",
       "      <th>price</th>\n",
       "    </tr>\n",
       "  </thead>\n",
       "  <tbody>\n",
       "    <tr>\n",
       "      <th>price</th>\n",
       "      <td>1.000000</td>\n",
       "    </tr>\n",
       "    <tr>\n",
       "      <th>curb-weight</th>\n",
       "      <td>0.891455</td>\n",
       "    </tr>\n",
       "    <tr>\n",
       "      <th>horsepower</th>\n",
       "      <td>0.833103</td>\n",
       "    </tr>\n",
       "    <tr>\n",
       "      <th>engine-size</th>\n",
       "      <td>0.829967</td>\n",
       "    </tr>\n",
       "    <tr>\n",
       "      <th>width</th>\n",
       "      <td>0.798082</td>\n",
       "    </tr>\n",
       "  </tbody>\n",
       "</table>\n",
       "</div>"
      ],
      "text/plain": [
       "                price\n",
       "price        1.000000\n",
       "curb-weight  0.891455\n",
       "horsepower   0.833103\n",
       "engine-size  0.829967\n",
       "width        0.798082"
      ]
     },
     "execution_count": 8,
     "metadata": {},
     "output_type": "execute_result"
    },
    {
     "data": {
      "image/png": "[encoded data removed]",
      "text/plain": [
       "<matplotlib.figure.Figure at 0x1a0df8ea50>"
      ]
     },
     "metadata": {},
     "output_type": "display_data"
    }
   ],
   "source": [
    "# Investigating correlation of numeric values with target variable.\n",
    "\n",
    "corr = d[num].corr() \n",
    "sns.heatmap(corr, vmax=.8, square=True)\n",
    "\n",
    "pd.DataFrame(corr.price.sort_values(ascending=False)).head(5)"
   ]
  },
  {
   "cell_type": "markdown",
   "metadata": {},
   "source": [
    "#### Preproessing for modeling."
   ]
  },
  {
   "cell_type": "code",
   "execution_count": 9,
   "metadata": {},
   "outputs": [],
   "source": [
    "# Converts categorical columns to codes and determines position of categorical variables\n",
    "# (this is required for the One Hot Encoder later).\n",
    "\n",
    "cat_id = []\n",
    "for i in cat:\n",
    "    cat_id = np.append(cat_id, d.columns.get_loc(i))\n",
    "cat_id = cat_id.astype(int)\n",
    "\n",
    "for i in cat:\n",
    "    d.loc[:,i] = np.int64(d[i].astype('category').cat.codes)\n",
    "    d.loc[:,i] = d.loc[:,i].replace([-1], np.nan)\n",
    "d = d.apply(pd.to_numeric)"
   ]
  },
  {
   "cell_type": "code",
   "execution_count": 10,
   "metadata": {},
   "outputs": [],
   "source": [
    "# Defines imputer (mode for categorical, median for numerical).\n",
    "\n",
    "class DataFrameImputer(TransformerMixin):\n",
    "    def __init__(self):\n",
    "        return None\n",
    "    \n",
    "    def fit(self, X, y=None):\n",
    "        self.fill = pd.Series([X[c].value_counts().index[0]\n",
    "            if X[c].dtype == np.dtype('O') else X[c].median() for c in X],\n",
    "            index=X.columns)\n",
    "        return self\n",
    "\n",
    "    def transform(self, X, y=None):\n",
    "        return X.fillna(self.fill)\n",
    "    \n",
    "    # This is required to apply GridSearchCV to the pipeline.\n",
    "    def get_params(self, *args, **kwargs):\n",
    "        return {}"
   ]
  },
  {
   "cell_type": "code",
   "execution_count": 11,
   "metadata": {},
   "outputs": [],
   "source": [
    "# Defines root mean squared error for model evaluation.\n",
    "\n",
    "def rmse(y_true, y_pred):\n",
    "    return np.sqrt(mean_squared_error(y_true, y_pred))"
   ]
  },
  {
   "cell_type": "code",
   "execution_count": 12,
   "metadata": {},
   "outputs": [
    {
     "name": "stdout",
     "output_type": "stream",
     "text": [
      "(201, 23)\n",
      "(201,)\n"
     ]
    }
   ],
   "source": [
    "# Splits data into train / test set.\n",
    "\n",
    "X = d.drop('price', axis = 1).copy()\n",
    "y = d['price'].reset_index(drop=True)\n",
    "print(X.shape)\n",
    "print(y.shape)\n",
    "\n",
    "X_train, X_test, y_train, y_test = train_test_split(X, y, test_size=0.3, random_state=42)"
   ]
  },
  {
   "cell_type": "markdown",
   "metadata": {},
   "source": [
    "##### Model 1: Linear Regression"
   ]
  },
  {
   "cell_type": "code",
   "execution_count": 13,
   "metadata": {},
   "outputs": [],
   "source": [
    "def evaluate_model(model, X_train, X_test, y_train, y_test):\n",
    "    \"\"\"Computes and prints model evaluation metrics.\n",
    "    \"\"\"\n",
    "    y_train_pred = model.predict(X_train)\n",
    "    y_test_pred = model.predict(X_test)\n",
    "\n",
    "    print(\"\"\"\n",
    "RMSE:\n",
    "  * Training: {rmse_train}\n",
    "  * Testing: {rmse_test}\n",
    "\n",
    "R squared:\n",
    "  * Training: {r2_train}\n",
    "  * Testing: {r2_test}\n",
    "\"\"\".format(\n",
    "        rmse_train=str(rmse(y_train, y_train_pred)),\n",
    "        rmse_test=str(rmse(y_test, y_test_pred)),\n",
    "        r2_train=str(model.score(X_train, y_train)),\n",
    "        r2_test=str(model.score(X_test, y_test))\n",
    "    ))"
   ]
  },
  {
   "cell_type": "code",
   "execution_count": 14,
   "metadata": {},
   "outputs": [
    {
     "name": "stdout",
     "output_type": "stream",
     "text": [
      "\n",
      "RMSE:\n",
      "  * Training: 0.0847278913653\n",
      "  * Testing: 401003903984.0\n",
      "\n",
      "R squared:\n",
      "  * Training: 0.97136830071\n",
      "  * Testing: -6.402103558e+23\n",
      "\n"
     ]
    }
   ],
   "source": [
    "# Builds pipeline including imputer, hot encoder, standard scaler, and the model.\n",
    "\n",
    "m = make_pipeline(\n",
    "    DataFrameImputer(),\n",
    "    OneHotEncoder(categorical_features=cat_id, sparse=False, handle_unknown='ignore'),\n",
    "    StandardScaler(),\n",
    "    LinearRegression()\n",
    ")\n",
    "m.fit(X_train, y_train)\n",
    "\n",
    "evaluate_model(m, X_train, X_test, y_train, y_test)"
   ]
  },
  {
   "cell_type": "markdown",
   "metadata": {},
   "source": [
    "##### Model 2: Ridge"
   ]
  },
  {
   "cell_type": "code",
   "execution_count": 15,
   "metadata": {},
   "outputs": [
    {
     "name": "stdout",
     "output_type": "stream",
     "text": [
      "\n",
      "RMSE:\n",
      "  * Training: 0.0869578514938\n",
      "  * Testing: 0.15594711887\n",
      "\n",
      "R squared:\n",
      "  * Training: 0.969841347752\n",
      "  * Testing: 0.903176627761\n",
      "\n"
     ]
    }
   ],
   "source": [
    "m_l2 = make_pipeline(\n",
    "    DataFrameImputer(),\n",
    "    OneHotEncoder(categorical_features=cat_id, sparse=False, handle_unknown='ignore'),\n",
    "    StandardScaler(),\n",
    "    Ridge(alpha=1)\n",
    ")\n",
    "m_l2.fit(X_train, y_train)\n",
    "\n",
    "evaluate_model(m_l2, X_train, X_test, y_train, y_test)"
   ]
  },
  {
   "cell_type": "markdown",
   "metadata": {},
   "source": [
    "#### Tuning hyperparameters of Ridge model."
   ]
  },
  {
   "cell_type": "code",
   "execution_count": 16,
   "metadata": {},
   "outputs": [
    {
     "name": "stdout",
     "output_type": "stream",
     "text": [
      "\n",
      "RMSE:\n",
      "  * Training: 0.106908581236\n",
      "  * Testing: 0.148848282679\n",
      "\n",
      "R squared:\n",
      "  * Training: 0.954415262313\n",
      "  * Testing: 0.911790948912\n",
      "\n"
     ]
    }
   ],
   "source": [
    "model = GridSearchCV(m_l2, {'ridge__alpha': np.logspace(-1, 3, 50)})\n",
    "model.fit(X_train, y_train)\n",
    "\n",
    "evaluate_model(model, X_train, X_test, y_train, y_test)"
   ]
  },
  {
   "cell_type": "markdown",
   "metadata": {},
   "source": [
    "#### Visualisation of the results from the Ridge model."
   ]
  },
  {
   "cell_type": "code",
   "execution_count": 17,
   "metadata": {},
   "outputs": [
    {
     "data": {
      "text/plain": [
       "[<matplotlib.lines.Line2D at 0x1a0d8d4e90>]"
      ]
     },
     "execution_count": 17,
     "metadata": {},
     "output_type": "execute_result"
    },
    {
     "data": {
      "image/png": "[encoded data removed]",
      "text/plain": [
       "<matplotlib.figure.Figure at 0x1a17073310>"
      ]
     },
     "metadata": {},
     "output_type": "display_data"
    }
   ],
   "source": [
    "fig, ax = plt.subplots()\n",
    "\n",
    "plt.xlabel(\"Predicted price ($)\")\n",
    "plt.ylabel(\"Real price ($)\")\n",
    "\n",
    "ax.scatter(np.exp(model.predict(X_test)), np.exp(y_test), alpha=.75, color='b')\n",
    "ax.plot([5000, 40000], [5000, 40000])"
   ]
  },
  {
   "cell_type": "markdown",
   "metadata": {},
   "source": [
    "#### Investigating model coefficients."
   ]
  },
  {
   "cell_type": "code",
   "execution_count": 18,
   "metadata": {},
   "outputs": [
    {
     "data": {
      "text/html": [
       "<div>\n",
       "<style scoped>\n",
       "    .dataframe tbody tr th:only-of-type {\n",
       "        vertical-align: middle;\n",
       "    }\n",
       "\n",
       "    .dataframe tbody tr th {\n",
       "        vertical-align: top;\n",
       "    }\n",
       "\n",
       "    .dataframe thead th {\n",
       "        text-align: right;\n",
       "    }\n",
       "</style>\n",
       "<table border=\"1\" class=\"dataframe\">\n",
       "  <thead>\n",
       "    <tr style=\"text-align: right;\">\n",
       "      <th></th>\n",
       "      <th>coef</th>\n",
       "      <th>name</th>\n",
       "    </tr>\n",
       "    <tr>\n",
       "      <th>id</th>\n",
       "      <th></th>\n",
       "      <th></th>\n",
       "    </tr>\n",
       "  </thead>\n",
       "  <tbody>\n",
       "    <tr>\n",
       "      <th>2</th>\n",
       "      <td>0.055922</td>\n",
       "      <td>make</td>\n",
       "    </tr>\n",
       "    <tr>\n",
       "      <th>53</th>\n",
       "      <td>0.052247</td>\n",
       "      <td>curb-weight</td>\n",
       "    </tr>\n",
       "    <tr>\n",
       "      <th>58</th>\n",
       "      <td>0.045107</td>\n",
       "      <td>horsepower</td>\n",
       "    </tr>\n",
       "    <tr>\n",
       "      <th>54</th>\n",
       "      <td>0.044412</td>\n",
       "      <td>engine-size</td>\n",
       "    </tr>\n",
       "    <tr>\n",
       "      <th>51</th>\n",
       "      <td>0.042092</td>\n",
       "      <td>width</td>\n",
       "    </tr>\n",
       "    <tr>\n",
       "      <th>50</th>\n",
       "      <td>0.036626</td>\n",
       "      <td>length</td>\n",
       "    </tr>\n",
       "    <tr>\n",
       "      <th>34</th>\n",
       "      <td>0.034064</td>\n",
       "      <td>drive-wheels</td>\n",
       "    </tr>\n",
       "    <tr>\n",
       "      <th>62</th>\n",
       "      <td>0.031523</td>\n",
       "      <td>number-of-cylinders</td>\n",
       "    </tr>\n",
       "    <tr>\n",
       "      <th>14</th>\n",
       "      <td>0.029139</td>\n",
       "      <td>make</td>\n",
       "    </tr>\n",
       "    <tr>\n",
       "      <th>1</th>\n",
       "      <td>0.028370</td>\n",
       "      <td>make</td>\n",
       "    </tr>\n",
       "  </tbody>\n",
       "</table>\n",
       "</div>"
      ],
      "text/plain": [
       "        coef                 name\n",
       "id                               \n",
       "2   0.055922                 make\n",
       "53  0.052247          curb-weight\n",
       "58  0.045107           horsepower\n",
       "54  0.044412          engine-size\n",
       "51  0.042092                width\n",
       "50  0.036626               length\n",
       "34  0.034064         drive-wheels\n",
       "62  0.031523  number-of-cylinders\n",
       "14  0.029139                 make\n",
       "1   0.028370                 make"
      ]
     },
     "execution_count": 18,
     "metadata": {},
     "output_type": "execute_result"
    }
   ],
   "source": [
    "# Deciphering columns (after use of one hot encoder).\n",
    "\n",
    "names = []\n",
    "\n",
    "# The one hot encoder saves the mapping between the indices and the corresponding columns in the original dataframe\n",
    "# in the properties feature_indices_ and with the mask active_features_.\n",
    "feature_indices = model.best_estimator_.named_steps[\"onehotencoder\"].feature_indices_\n",
    "active_features = model.best_estimator_.named_steps[\"onehotencoder\"].active_features_\n",
    "for i in range(X_train[cat].shape[1]):\n",
    "    for j in feature_indices[i] + range(feature_indices[i + 1] - feature_indices[i]):\n",
    "        if j in active_features:\n",
    "            names.append(X_train[cat].columns[i]) \n",
    "\n",
    "# Appends all the numeric columns used for the model which are not modified by the one hot encoder.\n",
    "names = np.append(names, [column for column in num if column != \"price\"])\n",
    "\n",
    "# Puts together the coefficients and the original column name of the dataframe and shows the variables with the most\n",
    "# weight.\n",
    "res = pd.DataFrame({\n",
    "    'id': np.arange(0, len(names)), \n",
    "    'name': names,\n",
    "    'coef': model.best_estimator_.named_steps[\"ridge\"].coef_\n",
    "})\n",
    "res.set_index('id', inplace=True)\n",
    "res = res.sort_values(by='coef', ascending=False)\n",
    "res.head(10)"
   ]
  },
  {
   "cell_type": "markdown",
   "metadata": {},
   "source": [
    "## Question 4. \n",
    "### A. Explain each and every of your design choices (e.g., preprocessing, model selection, hyper parameters, evaluation criteria). Compare and contrast your choices with alternative methodologies. "
   ]
  },
  {
   "attachments": {},
   "cell_type": "markdown",
   "metadata": {},
   "source": [
    "* Due to the small data set of 205 rows the aim was to implement a simple linear regression model. More complex models such as random forests or gradient boosting would have likely overfitted on the training set.\n",
    "\n",
    "### Preprocessing.\n",
    "* Rows and columns required for modeling of the car price were selected. Rows where the 'price' was missing were removed and columns related to insurance risk and loss payments excluded.\n",
    "* The distribution of the target variable 'price' was plotted and its skewness determined which revealed a skewed distribution with a long tail. The variable was log transformed to reduce the skewness. A normally distributed target variable was desirable as linear regression models require the errors to be normally distributed along the regression line.\n",
    "* As part of feature engineering the variable 'num-of-cylinders' was transformed from categorical to numerical by changing the numbering from text to a digit. In this way, the information of increasing numbers of cylinders was kept.\n",
    "* For the later use of the one hot encoder the following preprocessing steps were performed. Categorical and numeric columns were identified as the one hot encoder transforms the categorical variables into several boolean variables. It requires the values of the variables to be numeric which is why the strings of the categorical values were transformed to codes. Finally, the position of the categorical variables within the data frame was determined which was required for the use of a transformer pipeline.\n",
    "* The data was split into training (70%) and testing (30%) set.\n",
    "\n",
    "### Model pipeline.\n",
    "* Each model pipeline consisted of an imputer, the one hot encoder, a standard scaler and the model.\n",
    "* The imputer was defined to impute categorical values with the mode and numeric values with the median.\n",
    "* The one hot encoder transformed categorical variables into multiple boolean numeric variables.\n",
    "* The standard scaler normalised the variables to have a mean of 0 and a standard deviation of 1.\n",
    "* A pipeline was used for the purpose of easily conducting several preprocessing steps and to make sure to perform all transformations independently on training and testing set.\n",
    "\n",
    "\n",
    "### Model selection.\n",
    "* Due to the small sample size a simple linear regression model was chosen initially. However, due to the large number of variables with respect to the low number of data points the model overfitted largely on the training set.\n",
    "* As a second approach a Ridge regularisation (L2 norm) model was used which helps to tune the variable weights. L2 norm regularisation shrinks the regression coefficients and thus prevents overfitting. \n",
    "* The Ridge regression model performed much better than the simple linear regression model and reduced overfitting on the training set.\n",
    "\n",
    "### Hyper parameters.\n",
    "* To improve the Ridge regularisation model and to further reduce overfitting the alpha hyperparameter which controls the strength of the regularisation was optimised by testing multiple values for alpha through cross validation using GridSearchCV.\n",
    "\n",
    "\n",
    "### Evaluation criteria.\n",
    "* For model evaluation R-squared and root mean squared error were used.\n",
    "* R-squares is a measure of how close the data are to the fitted regression line. It varies from 0 to 1 with 1 meaning that all the variance in the target is explained by the data.\n",
    "* Root mean squared error is the root of the mean squared errors of the model. It measures the distance between the predicted and the actual values. It can be more intuitive as it is scale-dependent and is useful to compare different models on the same data set.\n",
    "\n",
    "### Model evaluation and investigation.\n",
    "* The final Ridge regularisation model still overfits slightly on the training set with an R-squared of 0.95 for training and 0.91 for testing set. However, the R-squared close to 1 and the small RMSE indicates a good fit of the regression line to the data.\n",
    "* The scatter plot of the real price versus the predicted price shows that the model predicts prices at the lower price range (~up to 20000 USD pretty well), however it underestimates all of the higher prices suggesting that a non-linear model may be more appropriate for this use case.\n",
    "* Investigation of the model coefficients revealed the most important model coefficients."
   ]
  },
  {
   "cell_type": "markdown",
   "metadata": {},
   "source": [
    "### B. Describe how you would improve the model in Question 3 if you had more time."
   ]
  },
  {
   "cell_type": "markdown",
   "metadata": {},
   "source": [
    "### Feature engineering.\n",
    "* Manually creating new features by combining other variables such as computing the size of the car using the variables length, width and height\n",
    "* Some of the independent variables are skewed and could be transformed to be more normally distributed.\n",
    "* Tree-based methods to find thresholds for categorical variables.\n",
    "\n",
    "### Ridge model improvements.\n",
    "* As outliers can affect regression models substantially by pulling the estimated regression line away from the data outlier they should either be removed or robustness regression algorithms be used to reduce their impact.\n",
    "\n",
    "### Other models.\n",
    "* As mentioned previously, high car prices are underestimated by the implemented Ridge regression model suggesting a nonlinear model may perform better in also correctly predicting these prices. Possibilities are for example Random Forest and Gradient Boosting regressors."
   ]
  },
  {
   "cell_type": "code",
   "execution_count": null,
   "metadata": {},
   "outputs": [],
   "source": []
  }
 ],
 "metadata": {
  "kernelspec": {
   "display_name": "Python [default]",
   "language": "python",
   "name": "python2"
  },
  "language_info": {
   "codemirror_mode": {
    "name": "ipython",
    "version": 2
   },
   "file_extension": ".py",
   "mimetype": "text/x-python",
   "name": "python",
   "nbconvert_exporter": "python",
   "pygments_lexer": "ipython2",
   "version": "2.7.14"
  }
 },
 "nbformat": 4,
 "nbformat_minor": 2
}
